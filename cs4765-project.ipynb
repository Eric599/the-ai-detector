{
 "cells": [
  {
   "cell_type": "code",
   "execution_count": null,
   "id": "7f3bae57-d36d-4322-9707-e0b45045a4f0",
   "metadata": {},
   "outputs": [],
   "source": [
    "# use pandas to load data and visualize\n",
    "# use longformer tokenizer (efficient at tokenizing large texts)\n",
    "# Set Up the Model for Fine-Tuning (transition to Colab here?)\n",
    "# Define Training Arguments"
   ]
  }
 ],
 "metadata": {
  "kernelspec": {
   "display_name": "Python 3 (ipykernel)",
   "language": "python",
   "name": "python3"
  },
  "language_info": {
   "codemirror_mode": {
    "name": "ipython",
    "version": 3
   },
   "file_extension": ".py",
   "mimetype": "text/x-python",
   "name": "python",
   "nbconvert_exporter": "python",
   "pygments_lexer": "ipython3",
   "version": "3.12.6"
  }
 },
 "nbformat": 4,
 "nbformat_minor": 5
}
